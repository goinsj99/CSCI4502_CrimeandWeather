{
 "cells": [
  {
   "cell_type": "markdown",
   "metadata": {},
   "source": [
    "Crime and weather"
   ]
  },
  {
   "cell_type": "code",
   "execution_count": 2,
   "metadata": {},
   "outputs": [],
   "source": [
    "import pandas as pd\n",
    "import numpy as np\n",
    "import pickle\n",
    "import matplotlib.pyplot as plt"
   ]
  },
  {
   "cell_type": "markdown",
   "metadata": {},
   "source": [
    "First I will read in both datasets as pandas dataframes"
   ]
  },
  {
   "cell_type": "code",
   "execution_count": 3,
   "metadata": {},
   "outputs": [],
   "source": [
    "crimeDF= pd.read_csv(\"crime.csv\", encoding='windows-1254')\n",
    "weatherDF = pd.read_csv(\"weather_data_long.csv\")\n"
   ]
  },
  {
   "cell_type": "code",
   "execution_count": 4,
   "metadata": {},
   "outputs": [
    {
     "data": {
      "text/html": [
       "<div>\n",
       "<style scoped>\n",
       "    .dataframe tbody tr th:only-of-type {\n",
       "        vertical-align: middle;\n",
       "    }\n",
       "\n",
       "    .dataframe tbody tr th {\n",
       "        vertical-align: top;\n",
       "    }\n",
       "\n",
       "    .dataframe thead th {\n",
       "        text-align: right;\n",
       "    }\n",
       "</style>\n",
       "<table border=\"1\" class=\"dataframe\">\n",
       "  <thead>\n",
       "    <tr style=\"text-align: right;\">\n",
       "      <th></th>\n",
       "      <th>incident_id</th>\n",
       "      <th>offense_id</th>\n",
       "      <th>OFFENSE_CODE</th>\n",
       "      <th>OFFENSE_CODE_EXTENSION</th>\n",
       "      <th>OFFENSE_TYPE_ID</th>\n",
       "      <th>OFFENSE_CATEGORY_ID</th>\n",
       "      <th>FIRST_OCCURRENCE_DATE</th>\n",
       "      <th>LAST_OCCURRENCE_DATE</th>\n",
       "      <th>REPORTED_DATE</th>\n",
       "      <th>INCIDENT_ADDRESS</th>\n",
       "      <th>GEO_X</th>\n",
       "      <th>GEO_Y</th>\n",
       "      <th>GEO_LON</th>\n",
       "      <th>GEO_LAT</th>\n",
       "      <th>DISTRICT_ID</th>\n",
       "      <th>PRECINCT_ID</th>\n",
       "      <th>NEIGHBORHOOD_ID</th>\n",
       "      <th>IS_CRIME</th>\n",
       "      <th>IS_TRAFFIC</th>\n",
       "      <th>VICTIM_COUNT</th>\n",
       "    </tr>\n",
       "  </thead>\n",
       "  <tbody>\n",
       "    <tr>\n",
       "      <th>0</th>\n",
       "      <td>2017421909</td>\n",
       "      <td>2017421909299900</td>\n",
       "      <td>2999</td>\n",
       "      <td>0</td>\n",
       "      <td>criminal-mischief-other</td>\n",
       "      <td>public-disorder</td>\n",
       "      <td>6/25/2017 8:40:00 PM</td>\n",
       "      <td>NaN</td>\n",
       "      <td>6/27/2017 7:01:00 PM</td>\n",
       "      <td>2920 W 32ND AVE</td>\n",
       "      <td>3133773.0</td>\n",
       "      <td>1702660.0</td>\n",
       "      <td>-105.024167</td>\n",
       "      <td>39.761646</td>\n",
       "      <td>1</td>\n",
       "      <td>113</td>\n",
       "      <td>highland</td>\n",
       "      <td>1</td>\n",
       "      <td>0</td>\n",
       "      <td>1</td>\n",
       "    </tr>\n",
       "    <tr>\n",
       "      <th>1</th>\n",
       "      <td>2017342682</td>\n",
       "      <td>2017342682299900</td>\n",
       "      <td>2999</td>\n",
       "      <td>0</td>\n",
       "      <td>criminal-mischief-other</td>\n",
       "      <td>public-disorder</td>\n",
       "      <td>5/26/2017 7:00:00 PM</td>\n",
       "      <td>NaN</td>\n",
       "      <td>5/26/2017 11:04:00 PM</td>\n",
       "      <td>13400 E ALBROOK DR</td>\n",
       "      <td>3185904.0</td>\n",
       "      <td>1709037.0</td>\n",
       "      <td>-104.838576</td>\n",
       "      <td>39.778256</td>\n",
       "      <td>5</td>\n",
       "      <td>521</td>\n",
       "      <td>montbello</td>\n",
       "      <td>1</td>\n",
       "      <td>0</td>\n",
       "      <td>1</td>\n",
       "    </tr>\n",
       "    <tr>\n",
       "      <th>2</th>\n",
       "      <td>2017421829</td>\n",
       "      <td>2017421829299900</td>\n",
       "      <td>2999</td>\n",
       "      <td>0</td>\n",
       "      <td>criminal-mischief-other</td>\n",
       "      <td>public-disorder</td>\n",
       "      <td>6/27/2017 4:40:00 PM</td>\n",
       "      <td>NaN</td>\n",
       "      <td>6/27/2017 5:50:00 PM</td>\n",
       "      <td>1600 BLOCK 16TH ST</td>\n",
       "      <td>3140436.0</td>\n",
       "      <td>1699005.0</td>\n",
       "      <td>-105.000538</td>\n",
       "      <td>39.751514</td>\n",
       "      <td>6</td>\n",
       "      <td>612</td>\n",
       "      <td>union-station</td>\n",
       "      <td>1</td>\n",
       "      <td>0</td>\n",
       "      <td>1</td>\n",
       "    </tr>\n",
       "    <tr>\n",
       "      <th>3</th>\n",
       "      <td>2017342681</td>\n",
       "      <td>2017342681299900</td>\n",
       "      <td>2999</td>\n",
       "      <td>0</td>\n",
       "      <td>criminal-mischief-other</td>\n",
       "      <td>public-disorder</td>\n",
       "      <td>5/26/2017 7:01:00 PM</td>\n",
       "      <td>NaN</td>\n",
       "      <td>5/26/2017 10:21:00 PM</td>\n",
       "      <td>2200 BLOCK MARKET ST</td>\n",
       "      <td>3143338.0</td>\n",
       "      <td>1700561.0</td>\n",
       "      <td>-104.990186</td>\n",
       "      <td>39.755741</td>\n",
       "      <td>6</td>\n",
       "      <td>612</td>\n",
       "      <td>five-points</td>\n",
       "      <td>1</td>\n",
       "      <td>0</td>\n",
       "      <td>1</td>\n",
       "    </tr>\n",
       "    <tr>\n",
       "      <th>4</th>\n",
       "      <td>2017448789</td>\n",
       "      <td>2017448789299900</td>\n",
       "      <td>2999</td>\n",
       "      <td>0</td>\n",
       "      <td>criminal-mischief-other</td>\n",
       "      <td>public-disorder</td>\n",
       "      <td>7/7/2017 9:48:00 PM</td>\n",
       "      <td>NaN</td>\n",
       "      <td>7/7/2017 9:48:00 PM</td>\n",
       "      <td>1733 N GROVE ST</td>\n",
       "      <td>3132994.0</td>\n",
       "      <td>1696487.0</td>\n",
       "      <td>-105.027052</td>\n",
       "      <td>39.744711</td>\n",
       "      <td>1</td>\n",
       "      <td>121</td>\n",
       "      <td>west-colfax</td>\n",
       "      <td>1</td>\n",
       "      <td>0</td>\n",
       "      <td>1</td>\n",
       "    </tr>\n",
       "  </tbody>\n",
       "</table>\n",
       "</div>"
      ],
      "text/plain": [
       "   incident_id        offense_id  OFFENSE_CODE  OFFENSE_CODE_EXTENSION  \\\n",
       "0   2017421909  2017421909299900          2999                       0   \n",
       "1   2017342682  2017342682299900          2999                       0   \n",
       "2   2017421829  2017421829299900          2999                       0   \n",
       "3   2017342681  2017342681299900          2999                       0   \n",
       "4   2017448789  2017448789299900          2999                       0   \n",
       "\n",
       "           OFFENSE_TYPE_ID OFFENSE_CATEGORY_ID FIRST_OCCURRENCE_DATE  \\\n",
       "0  criminal-mischief-other     public-disorder  6/25/2017 8:40:00 PM   \n",
       "1  criminal-mischief-other     public-disorder  5/26/2017 7:00:00 PM   \n",
       "2  criminal-mischief-other     public-disorder  6/27/2017 4:40:00 PM   \n",
       "3  criminal-mischief-other     public-disorder  5/26/2017 7:01:00 PM   \n",
       "4  criminal-mischief-other     public-disorder   7/7/2017 9:48:00 PM   \n",
       "\n",
       "  LAST_OCCURRENCE_DATE          REPORTED_DATE      INCIDENT_ADDRESS  \\\n",
       "0                  NaN   6/27/2017 7:01:00 PM       2920 W 32ND AVE   \n",
       "1                  NaN  5/26/2017 11:04:00 PM    13400 E ALBROOK DR   \n",
       "2                  NaN   6/27/2017 5:50:00 PM    1600 BLOCK 16TH ST   \n",
       "3                  NaN  5/26/2017 10:21:00 PM  2200 BLOCK MARKET ST   \n",
       "4                  NaN    7/7/2017 9:48:00 PM       1733 N GROVE ST   \n",
       "\n",
       "       GEO_X      GEO_Y     GEO_LON    GEO_LAT DISTRICT_ID  PRECINCT_ID  \\\n",
       "0  3133773.0  1702660.0 -105.024167  39.761646           1          113   \n",
       "1  3185904.0  1709037.0 -104.838576  39.778256           5          521   \n",
       "2  3140436.0  1699005.0 -105.000538  39.751514           6          612   \n",
       "3  3143338.0  1700561.0 -104.990186  39.755741           6          612   \n",
       "4  3132994.0  1696487.0 -105.027052  39.744711           1          121   \n",
       "\n",
       "  NEIGHBORHOOD_ID  IS_CRIME  IS_TRAFFIC  VICTIM_COUNT  \n",
       "0        highland         1           0             1  \n",
       "1       montbello         1           0             1  \n",
       "2   union-station         1           0             1  \n",
       "3     five-points         1           0             1  \n",
       "4     west-colfax         1           0             1  "
      ]
     },
     "execution_count": 4,
     "metadata": {},
     "output_type": "execute_result"
    }
   ],
   "source": [
    "crimeDF.head()"
   ]
  },
  {
   "cell_type": "code",
   "execution_count": null,
   "metadata": {},
   "outputs": [],
   "source": []
  },
  {
   "cell_type": "markdown",
   "metadata": {},
   "source": [
    "https://towardsdatascience.com/analysis-of-nyc-reported-crime-data-using-pandas-821753cd7e22\n"
   ]
  },
  {
   "cell_type": "code",
   "execution_count": 5,
   "metadata": {},
   "outputs": [
    {
     "data": {
      "text/html": [
       "<div>\n",
       "<style scoped>\n",
       "    .dataframe tbody tr th:only-of-type {\n",
       "        vertical-align: middle;\n",
       "    }\n",
       "\n",
       "    .dataframe tbody tr th {\n",
       "        vertical-align: top;\n",
       "    }\n",
       "\n",
       "    .dataframe thead th {\n",
       "        text-align: right;\n",
       "    }\n",
       "</style>\n",
       "<table border=\"1\" class=\"dataframe\">\n",
       "  <thead>\n",
       "    <tr style=\"text-align: right;\">\n",
       "      <th></th>\n",
       "      <th>Date</th>\n",
       "      <th>Time</th>\n",
       "      <th>Temperature</th>\n",
       "      <th>DewPoint</th>\n",
       "      <th>Humidity</th>\n",
       "      <th>Wind</th>\n",
       "      <th>WinSpeed</th>\n",
       "      <th>WindGust</th>\n",
       "      <th>Pressure</th>\n",
       "      <th>Precip.</th>\n",
       "      <th>Condition</th>\n",
       "    </tr>\n",
       "  </thead>\n",
       "  <tbody>\n",
       "    <tr>\n",
       "      <th>0</th>\n",
       "      <td>2002-01-01</td>\n",
       "      <td>12:53 AM</td>\n",
       "      <td>19</td>\n",
       "      <td>13</td>\n",
       "      <td>77</td>\n",
       "      <td>ENE</td>\n",
       "      <td>14</td>\n",
       "      <td>0</td>\n",
       "      <td>24.73</td>\n",
       "      <td>0.0</td>\n",
       "      <td>Cloudy</td>\n",
       "    </tr>\n",
       "    <tr>\n",
       "      <th>1</th>\n",
       "      <td>2002-01-02</td>\n",
       "      <td>12:53 AM</td>\n",
       "      <td>10</td>\n",
       "      <td>-3</td>\n",
       "      <td>56</td>\n",
       "      <td>SE</td>\n",
       "      <td>5</td>\n",
       "      <td>0</td>\n",
       "      <td>24.94</td>\n",
       "      <td>0.0</td>\n",
       "      <td>Mostly Cloudy</td>\n",
       "    </tr>\n",
       "    <tr>\n",
       "      <th>2</th>\n",
       "      <td>2002-01-04</td>\n",
       "      <td>12:53 AM</td>\n",
       "      <td>30</td>\n",
       "      <td>14</td>\n",
       "      <td>51</td>\n",
       "      <td>W</td>\n",
       "      <td>9</td>\n",
       "      <td>0</td>\n",
       "      <td>24.45</td>\n",
       "      <td>0.0</td>\n",
       "      <td>Partly Cloudy</td>\n",
       "    </tr>\n",
       "    <tr>\n",
       "      <th>3</th>\n",
       "      <td>2002-01-05</td>\n",
       "      <td>12:53 AM</td>\n",
       "      <td>25</td>\n",
       "      <td>18</td>\n",
       "      <td>75</td>\n",
       "      <td>CALM</td>\n",
       "      <td>0</td>\n",
       "      <td>0</td>\n",
       "      <td>24.74</td>\n",
       "      <td>0.0</td>\n",
       "      <td>Mostly Cloudy</td>\n",
       "    </tr>\n",
       "    <tr>\n",
       "      <th>4</th>\n",
       "      <td>2002-01-06</td>\n",
       "      <td>12:53 AM</td>\n",
       "      <td>23</td>\n",
       "      <td>9</td>\n",
       "      <td>55</td>\n",
       "      <td>SSE</td>\n",
       "      <td>13</td>\n",
       "      <td>0</td>\n",
       "      <td>24.74</td>\n",
       "      <td>0.0</td>\n",
       "      <td>Mostly Cloudy</td>\n",
       "    </tr>\n",
       "  </tbody>\n",
       "</table>\n",
       "</div>"
      ],
      "text/plain": [
       "         Date      Time  Temperature  DewPoint  Humidity  Wind  WinSpeed  \\\n",
       "0  2002-01-01  12:53 AM           19        13        77   ENE        14   \n",
       "1  2002-01-02  12:53 AM           10        -3        56    SE         5   \n",
       "2  2002-01-04  12:53 AM           30        14        51     W         9   \n",
       "3  2002-01-05  12:53 AM           25        18        75  CALM         0   \n",
       "4  2002-01-06  12:53 AM           23         9        55   SSE        13   \n",
       "\n",
       "   WindGust  Pressure  Precip.      Condition  \n",
       "0         0     24.73      0.0         Cloudy  \n",
       "1         0     24.94      0.0  Mostly Cloudy  \n",
       "2         0     24.45      0.0  Partly Cloudy  \n",
       "3         0     24.74      0.0  Mostly Cloudy  \n",
       "4         0     24.74      0.0  Mostly Cloudy  "
      ]
     },
     "execution_count": 5,
     "metadata": {},
     "output_type": "execute_result"
    }
   ],
   "source": [
    "weatherDF.head()"
   ]
  },
  {
   "cell_type": "markdown",
   "metadata": {},
   "source": [
    "Now I will give some general data visualizations of both"
   ]
  },
  {
   "cell_type": "code",
   "execution_count": 6,
   "metadata": {},
   "outputs": [
    {
     "data": {
      "image/png": "[encoded data removed]",
      "text/plain": [
       "<Figure size 432x288 with 1 Axes>"
      ]
     },
     "metadata": {
      "needs_background": "light"
     },
     "output_type": "display_data"
    }
   ],
   "source": [
    "plt.scatter(weatherDF[\"Date\"], weatherDF[\"Temperature\"])\n",
    "plt.show()\n"
   ]
  },
  {
   "cell_type": "code",
   "execution_count": 7,
   "metadata": {},
   "outputs": [
    {
     "data": {
      "text/plain": [
       "Date             0\n",
       "Time             0\n",
       "Temperature      0\n",
       "DewPoint         0\n",
       "Humidity         0\n",
       "Wind           197\n",
       "WinSpeed         0\n",
       "WindGust         0\n",
       "Pressure         0\n",
       "Precip.          0\n",
       "Condition        4\n",
       "dtype: int64"
      ]
     },
     "execution_count": 7,
     "metadata": {},
     "output_type": "execute_result"
    }
   ],
   "source": [
    "weatherDF.isna().sum()\n"
   ]
  },
  {
   "cell_type": "code",
   "execution_count": 8,
   "metadata": {},
   "outputs": [
    {
     "data": {
      "text/plain": [
       "incident_id                    0\n",
       "offense_id                     0\n",
       "OFFENSE_CODE                   0\n",
       "OFFENSE_CODE_EXTENSION         0\n",
       "OFFENSE_TYPE_ID                0\n",
       "OFFENSE_CATEGORY_ID            0\n",
       "FIRST_OCCURRENCE_DATE          0\n",
       "LAST_OCCURRENCE_DATE      193431\n",
       "REPORTED_DATE                  0\n",
       "INCIDENT_ADDRESS            5538\n",
       "GEO_X                       5538\n",
       "GEO_Y                       5538\n",
       "GEO_LON                     5538\n",
       "GEO_LAT                     5538\n",
       "DISTRICT_ID                 1458\n",
       "PRECINCT_ID                    0\n",
       "NEIGHBORHOOD_ID             5276\n",
       "IS_CRIME                       0\n",
       "IS_TRAFFIC                     0\n",
       "VICTIM_COUNT                   0\n",
       "dtype: int64"
      ]
     },
     "execution_count": 8,
     "metadata": {},
     "output_type": "execute_result"
    }
   ],
   "source": [
    "crimeDF.isna().sum()"
   ]
  },
  {
   "cell_type": "code",
   "execution_count": 9,
   "metadata": {},
   "outputs": [],
   "source": [
    "# df['Dates'] = pd.to_datetime(df['date']).dt.date\n",
    "# df['Time'] = pd.to_datetime(df['date']).dt.time\n",
    "#formatted the date and time into different columns for report date, occurrence date\n",
    "crimeDF[\"REPORT_DATE\"] = pd.to_datetime(crimeDF[\"REPORTED_DATE\"]).dt.date\n",
    "crimeDF[\"REPORT_TIME\"] = pd.to_datetime(crimeDF[\"REPORTED_DATE\"]).dt.time\n",
    "\n",
    "\n"
   ]
  },
  {
   "cell_type": "code",
   "execution_count": 10,
   "metadata": {},
   "outputs": [],
   "source": [
    "crimeDF[\"OCCURRENCE_DATE\"] = pd.to_datetime(crimeDF[\"FIRST_OCCURRENCE_DATE\"]).dt.date\n",
    "crimeDF[\"OCCURRENCE_TIME\"] = pd.to_datetime(crimeDF[\"FIRST_OCCURRENCE_DATE\"]).dt.time"
   ]
  },
  {
   "cell_type": "code",
   "execution_count": 11,
   "metadata": {},
   "outputs": [
    {
     "data": {
      "text/html": [
       "<div>\n",
       "<style scoped>\n",
       "    .dataframe tbody tr th:only-of-type {\n",
       "        vertical-align: middle;\n",
       "    }\n",
       "\n",
       "    .dataframe tbody tr th {\n",
       "        vertical-align: top;\n",
       "    }\n",
       "\n",
       "    .dataframe thead th {\n",
       "        text-align: right;\n",
       "    }\n",
       "</style>\n",
       "<table border=\"1\" class=\"dataframe\">\n",
       "  <thead>\n",
       "    <tr style=\"text-align: right;\">\n",
       "      <th></th>\n",
       "      <th>incident_id</th>\n",
       "      <th>offense_id</th>\n",
       "      <th>OFFENSE_CODE</th>\n",
       "      <th>OFFENSE_CODE_EXTENSION</th>\n",
       "      <th>OFFENSE_TYPE_ID</th>\n",
       "      <th>OFFENSE_CATEGORY_ID</th>\n",
       "      <th>FIRST_OCCURRENCE_DATE</th>\n",
       "      <th>LAST_OCCURRENCE_DATE</th>\n",
       "      <th>REPORTED_DATE</th>\n",
       "      <th>INCIDENT_ADDRESS</th>\n",
       "      <th>...</th>\n",
       "      <th>DISTRICT_ID</th>\n",
       "      <th>PRECINCT_ID</th>\n",
       "      <th>NEIGHBORHOOD_ID</th>\n",
       "      <th>IS_CRIME</th>\n",
       "      <th>IS_TRAFFIC</th>\n",
       "      <th>VICTIM_COUNT</th>\n",
       "      <th>REPORT_DATE</th>\n",
       "      <th>REPORT_TIME</th>\n",
       "      <th>OCCURRENCE_DATE</th>\n",
       "      <th>OCCURRENCE_TIME</th>\n",
       "    </tr>\n",
       "  </thead>\n",
       "  <tbody>\n",
       "    <tr>\n",
       "      <th>0</th>\n",
       "      <td>2017421909</td>\n",
       "      <td>2017421909299900</td>\n",
       "      <td>2999</td>\n",
       "      <td>0</td>\n",
       "      <td>criminal-mischief-other</td>\n",
       "      <td>public-disorder</td>\n",
       "      <td>6/25/2017 8:40:00 PM</td>\n",
       "      <td>NaN</td>\n",
       "      <td>6/27/2017 7:01:00 PM</td>\n",
       "      <td>2920 W 32ND AVE</td>\n",
       "      <td>...</td>\n",
       "      <td>1</td>\n",
       "      <td>113</td>\n",
       "      <td>highland</td>\n",
       "      <td>1</td>\n",
       "      <td>0</td>\n",
       "      <td>1</td>\n",
       "      <td>2017-06-27</td>\n",
       "      <td>19:01:00</td>\n",
       "      <td>2017-06-25</td>\n",
       "      <td>20:40:00</td>\n",
       "    </tr>\n",
       "    <tr>\n",
       "      <th>1</th>\n",
       "      <td>2017342682</td>\n",
       "      <td>2017342682299900</td>\n",
       "      <td>2999</td>\n",
       "      <td>0</td>\n",
       "      <td>criminal-mischief-other</td>\n",
       "      <td>public-disorder</td>\n",
       "      <td>5/26/2017 7:00:00 PM</td>\n",
       "      <td>NaN</td>\n",
       "      <td>5/26/2017 11:04:00 PM</td>\n",
       "      <td>13400 E ALBROOK DR</td>\n",
       "      <td>...</td>\n",
       "      <td>5</td>\n",
       "      <td>521</td>\n",
       "      <td>montbello</td>\n",
       "      <td>1</td>\n",
       "      <td>0</td>\n",
       "      <td>1</td>\n",
       "      <td>2017-05-26</td>\n",
       "      <td>23:04:00</td>\n",
       "      <td>2017-05-26</td>\n",
       "      <td>19:00:00</td>\n",
       "    </tr>\n",
       "    <tr>\n",
       "      <th>2</th>\n",
       "      <td>2017421829</td>\n",
       "      <td>2017421829299900</td>\n",
       "      <td>2999</td>\n",
       "      <td>0</td>\n",
       "      <td>criminal-mischief-other</td>\n",
       "      <td>public-disorder</td>\n",
       "      <td>6/27/2017 4:40:00 PM</td>\n",
       "      <td>NaN</td>\n",
       "      <td>6/27/2017 5:50:00 PM</td>\n",
       "      <td>1600 BLOCK 16TH ST</td>\n",
       "      <td>...</td>\n",
       "      <td>6</td>\n",
       "      <td>612</td>\n",
       "      <td>union-station</td>\n",
       "      <td>1</td>\n",
       "      <td>0</td>\n",
       "      <td>1</td>\n",
       "      <td>2017-06-27</td>\n",
       "      <td>17:50:00</td>\n",
       "      <td>2017-06-27</td>\n",
       "      <td>16:40:00</td>\n",
       "    </tr>\n",
       "    <tr>\n",
       "      <th>3</th>\n",
       "      <td>2017342681</td>\n",
       "      <td>2017342681299900</td>\n",
       "      <td>2999</td>\n",
       "      <td>0</td>\n",
       "      <td>criminal-mischief-other</td>\n",
       "      <td>public-disorder</td>\n",
       "      <td>5/26/2017 7:01:00 PM</td>\n",
       "      <td>NaN</td>\n",
       "      <td>5/26/2017 10:21:00 PM</td>\n",
       "      <td>2200 BLOCK MARKET ST</td>\n",
       "      <td>...</td>\n",
       "      <td>6</td>\n",
       "      <td>612</td>\n",
       "      <td>five-points</td>\n",
       "      <td>1</td>\n",
       "      <td>0</td>\n",
       "      <td>1</td>\n",
       "      <td>2017-05-26</td>\n",
       "      <td>22:21:00</td>\n",
       "      <td>2017-05-26</td>\n",
       "      <td>19:01:00</td>\n",
       "    </tr>\n",
       "    <tr>\n",
       "      <th>4</th>\n",
       "      <td>2017448789</td>\n",
       "      <td>2017448789299900</td>\n",
       "      <td>2999</td>\n",
       "      <td>0</td>\n",
       "      <td>criminal-mischief-other</td>\n",
       "      <td>public-disorder</td>\n",
       "      <td>7/7/2017 9:48:00 PM</td>\n",
       "      <td>NaN</td>\n",
       "      <td>7/7/2017 9:48:00 PM</td>\n",
       "      <td>1733 N GROVE ST</td>\n",
       "      <td>...</td>\n",
       "      <td>1</td>\n",
       "      <td>121</td>\n",
       "      <td>west-colfax</td>\n",
       "      <td>1</td>\n",
       "      <td>0</td>\n",
       "      <td>1</td>\n",
       "      <td>2017-07-07</td>\n",
       "      <td>21:48:00</td>\n",
       "      <td>2017-07-07</td>\n",
       "      <td>21:48:00</td>\n",
       "    </tr>\n",
       "  </tbody>\n",
       "</table>\n",
       "<p>5 rows × 24 columns</p>\n",
       "</div>"
      ],
      "text/plain": [
       "   incident_id        offense_id  OFFENSE_CODE  OFFENSE_CODE_EXTENSION  \\\n",
       "0   2017421909  2017421909299900          2999                       0   \n",
       "1   2017342682  2017342682299900          2999                       0   \n",
       "2   2017421829  2017421829299900          2999                       0   \n",
       "3   2017342681  2017342681299900          2999                       0   \n",
       "4   2017448789  2017448789299900          2999                       0   \n",
       "\n",
       "           OFFENSE_TYPE_ID OFFENSE_CATEGORY_ID FIRST_OCCURRENCE_DATE  \\\n",
       "0  criminal-mischief-other     public-disorder  6/25/2017 8:40:00 PM   \n",
       "1  criminal-mischief-other     public-disorder  5/26/2017 7:00:00 PM   \n",
       "2  criminal-mischief-other     public-disorder  6/27/2017 4:40:00 PM   \n",
       "3  criminal-mischief-other     public-disorder  5/26/2017 7:01:00 PM   \n",
       "4  criminal-mischief-other     public-disorder   7/7/2017 9:48:00 PM   \n",
       "\n",
       "  LAST_OCCURRENCE_DATE          REPORTED_DATE      INCIDENT_ADDRESS  ...  \\\n",
       "0                  NaN   6/27/2017 7:01:00 PM       2920 W 32ND AVE  ...   \n",
       "1                  NaN  5/26/2017 11:04:00 PM    13400 E ALBROOK DR  ...   \n",
       "2                  NaN   6/27/2017 5:50:00 PM    1600 BLOCK 16TH ST  ...   \n",
       "3                  NaN  5/26/2017 10:21:00 PM  2200 BLOCK MARKET ST  ...   \n",
       "4                  NaN    7/7/2017 9:48:00 PM       1733 N GROVE ST  ...   \n",
       "\n",
       "   DISTRICT_ID  PRECINCT_ID  NEIGHBORHOOD_ID  IS_CRIME IS_TRAFFIC  \\\n",
       "0            1          113         highland         1          0   \n",
       "1            5          521        montbello         1          0   \n",
       "2            6          612    union-station         1          0   \n",
       "3            6          612      five-points         1          0   \n",
       "4            1          121      west-colfax         1          0   \n",
       "\n",
       "   VICTIM_COUNT REPORT_DATE  REPORT_TIME  OCCURRENCE_DATE  OCCURRENCE_TIME  \n",
       "0             1  2017-06-27     19:01:00       2017-06-25         20:40:00  \n",
       "1             1  2017-05-26     23:04:00       2017-05-26         19:00:00  \n",
       "2             1  2017-06-27     17:50:00       2017-06-27         16:40:00  \n",
       "3             1  2017-05-26     22:21:00       2017-05-26         19:01:00  \n",
       "4             1  2017-07-07     21:48:00       2017-07-07         21:48:00  \n",
       "\n",
       "[5 rows x 24 columns]"
      ]
     },
     "execution_count": 11,
     "metadata": {},
     "output_type": "execute_result"
    }
   ],
   "source": [
    "crimeDF.head()"
   ]
  },
  {
   "cell_type": "markdown",
   "metadata": {},
   "source": [
    "Now i am going to drop the columns that I do not need/ incomplete: incidentID,offenseID, offense code, offence code extention, first occurance date, last occurance date, reported date"
   ]
  },
  {
   "cell_type": "code",
   "execution_count": 12,
   "metadata": {},
   "outputs": [],
   "source": [
    "del crimeDF[\"incident_id\"]\n",
    "del crimeDF[\"offense_id\"]\n",
    "del crimeDF[\"OFFENSE_CODE\"]\n",
    "del crimeDF[\"OFFENSE_CODE_EXTENSION\"]\n",
    "del crimeDF[\"FIRST_OCCURRENCE_DATE\"]\n",
    "del crimeDF[\"LAST_OCCURRENCE_DATE\"]\n",
    "del crimeDF[\"REPORTED_DATE\"]\n",
    "del crimeDF[\"VICTIM_COUNT\"]"
   ]
  },
  {
   "cell_type": "code",
   "execution_count": 14,
   "metadata": {},
   "outputs": [
    {
     "data": {
      "text/html": [
       "<div>\n",
       "<style scoped>\n",
       "    .dataframe tbody tr th:only-of-type {\n",
       "        vertical-align: middle;\n",
       "    }\n",
       "\n",
       "    .dataframe tbody tr th {\n",
       "        vertical-align: top;\n",
       "    }\n",
       "\n",
       "    .dataframe thead th {\n",
       "        text-align: right;\n",
       "    }\n",
       "</style>\n",
       "<table border=\"1\" class=\"dataframe\">\n",
       "  <thead>\n",
       "    <tr style=\"text-align: right;\">\n",
       "      <th></th>\n",
       "      <th>OFFENSE_TYPE_ID</th>\n",
       "      <th>OFFENSE_CATEGORY_ID</th>\n",
       "      <th>INCIDENT_ADDRESS</th>\n",
       "      <th>GEO_X</th>\n",
       "      <th>GEO_Y</th>\n",
       "      <th>GEO_LON</th>\n",
       "      <th>GEO_LAT</th>\n",
       "      <th>DISTRICT_ID</th>\n",
       "      <th>PRECINCT_ID</th>\n",
       "      <th>NEIGHBORHOOD_ID</th>\n",
       "      <th>IS_CRIME</th>\n",
       "      <th>IS_TRAFFIC</th>\n",
       "      <th>REPORT_DATE</th>\n",
       "      <th>REPORT_TIME</th>\n",
       "      <th>OCCURRENCE_DATE</th>\n",
       "      <th>OCCURRENCE_TIME</th>\n",
       "    </tr>\n",
       "  </thead>\n",
       "  <tbody>\n",
       "    <tr>\n",
       "      <th>0</th>\n",
       "      <td>criminal-mischief-other</td>\n",
       "      <td>public-disorder</td>\n",
       "      <td>2920 W 32ND AVE</td>\n",
       "      <td>3133773.0</td>\n",
       "      <td>1702660.0</td>\n",
       "      <td>-105.024167</td>\n",
       "      <td>39.761646</td>\n",
       "      <td>1</td>\n",
       "      <td>113</td>\n",
       "      <td>highland</td>\n",
       "      <td>1</td>\n",
       "      <td>0</td>\n",
       "      <td>2017-06-27</td>\n",
       "      <td>19:01:00</td>\n",
       "      <td>2017-06-25</td>\n",
       "      <td>20:40:00</td>\n",
       "    </tr>\n",
       "    <tr>\n",
       "      <th>1</th>\n",
       "      <td>criminal-mischief-other</td>\n",
       "      <td>public-disorder</td>\n",
       "      <td>13400 E ALBROOK DR</td>\n",
       "      <td>3185904.0</td>\n",
       "      <td>1709037.0</td>\n",
       "      <td>-104.838576</td>\n",
       "      <td>39.778256</td>\n",
       "      <td>5</td>\n",
       "      <td>521</td>\n",
       "      <td>montbello</td>\n",
       "      <td>1</td>\n",
       "      <td>0</td>\n",
       "      <td>2017-05-26</td>\n",
       "      <td>23:04:00</td>\n",
       "      <td>2017-05-26</td>\n",
       "      <td>19:00:00</td>\n",
       "    </tr>\n",
       "    <tr>\n",
       "      <th>2</th>\n",
       "      <td>criminal-mischief-other</td>\n",
       "      <td>public-disorder</td>\n",
       "      <td>1600 BLOCK 16TH ST</td>\n",
       "      <td>3140436.0</td>\n",
       "      <td>1699005.0</td>\n",
       "      <td>-105.000538</td>\n",
       "      <td>39.751514</td>\n",
       "      <td>6</td>\n",
       "      <td>612</td>\n",
       "      <td>union-station</td>\n",
       "      <td>1</td>\n",
       "      <td>0</td>\n",
       "      <td>2017-06-27</td>\n",
       "      <td>17:50:00</td>\n",
       "      <td>2017-06-27</td>\n",
       "      <td>16:40:00</td>\n",
       "    </tr>\n",
       "    <tr>\n",
       "      <th>3</th>\n",
       "      <td>criminal-mischief-other</td>\n",
       "      <td>public-disorder</td>\n",
       "      <td>2200 BLOCK MARKET ST</td>\n",
       "      <td>3143338.0</td>\n",
       "      <td>1700561.0</td>\n",
       "      <td>-104.990186</td>\n",
       "      <td>39.755741</td>\n",
       "      <td>6</td>\n",
       "      <td>612</td>\n",
       "      <td>five-points</td>\n",
       "      <td>1</td>\n",
       "      <td>0</td>\n",
       "      <td>2017-05-26</td>\n",
       "      <td>22:21:00</td>\n",
       "      <td>2017-05-26</td>\n",
       "      <td>19:01:00</td>\n",
       "    </tr>\n",
       "    <tr>\n",
       "      <th>4</th>\n",
       "      <td>criminal-mischief-other</td>\n",
       "      <td>public-disorder</td>\n",
       "      <td>1733 N GROVE ST</td>\n",
       "      <td>3132994.0</td>\n",
       "      <td>1696487.0</td>\n",
       "      <td>-105.027052</td>\n",
       "      <td>39.744711</td>\n",
       "      <td>1</td>\n",
       "      <td>121</td>\n",
       "      <td>west-colfax</td>\n",
       "      <td>1</td>\n",
       "      <td>0</td>\n",
       "      <td>2017-07-07</td>\n",
       "      <td>21:48:00</td>\n",
       "      <td>2017-07-07</td>\n",
       "      <td>21:48:00</td>\n",
       "    </tr>\n",
       "  </tbody>\n",
       "</table>\n",
       "</div>"
      ],
      "text/plain": [
       "           OFFENSE_TYPE_ID OFFENSE_CATEGORY_ID      INCIDENT_ADDRESS  \\\n",
       "0  criminal-mischief-other     public-disorder       2920 W 32ND AVE   \n",
       "1  criminal-mischief-other     public-disorder    13400 E ALBROOK DR   \n",
       "2  criminal-mischief-other     public-disorder    1600 BLOCK 16TH ST   \n",
       "3  criminal-mischief-other     public-disorder  2200 BLOCK MARKET ST   \n",
       "4  criminal-mischief-other     public-disorder       1733 N GROVE ST   \n",
       "\n",
       "       GEO_X      GEO_Y     GEO_LON    GEO_LAT DISTRICT_ID  PRECINCT_ID  \\\n",
       "0  3133773.0  1702660.0 -105.024167  39.761646           1          113   \n",
       "1  3185904.0  1709037.0 -104.838576  39.778256           5          521   \n",
       "2  3140436.0  1699005.0 -105.000538  39.751514           6          612   \n",
       "3  3143338.0  1700561.0 -104.990186  39.755741           6          612   \n",
       "4  3132994.0  1696487.0 -105.027052  39.744711           1          121   \n",
       "\n",
       "  NEIGHBORHOOD_ID  IS_CRIME  IS_TRAFFIC REPORT_DATE REPORT_TIME  \\\n",
       "0        highland         1           0  2017-06-27    19:01:00   \n",
       "1       montbello         1           0  2017-05-26    23:04:00   \n",
       "2   union-station         1           0  2017-06-27    17:50:00   \n",
       "3     five-points         1           0  2017-05-26    22:21:00   \n",
       "4     west-colfax         1           0  2017-07-07    21:48:00   \n",
       "\n",
       "  OCCURRENCE_DATE OCCURRENCE_TIME  \n",
       "0      2017-06-25        20:40:00  \n",
       "1      2017-05-26        19:00:00  \n",
       "2      2017-06-27        16:40:00  \n",
       "3      2017-05-26        19:01:00  \n",
       "4      2017-07-07        21:48:00  "
      ]
     },
     "execution_count": 14,
     "metadata": {},
     "output_type": "execute_result"
    }
   ],
   "source": [
    "crimeDF.head()"
   ]
  },
  {
   "cell_type": "code",
   "execution_count": 56,
   "metadata": {},
   "outputs": [],
   "source": [
    "del crimeDF[\"GEO_X\"]\n",
    "del crimeDF[\"GEO_Y\"]\n",
    "del crimeDF[\"GEO_LON\"]\n",
    "del crimeDF[\"GEO_LAT\"]"
   ]
  },
  {
   "cell_type": "code",
   "execution_count": 57,
   "metadata": {},
   "outputs": [
    {
     "data": {
      "text/html": [
       "<div>\n",
       "<style scoped>\n",
       "    .dataframe tbody tr th:only-of-type {\n",
       "        vertical-align: middle;\n",
       "    }\n",
       "\n",
       "    .dataframe tbody tr th {\n",
       "        vertical-align: top;\n",
       "    }\n",
       "\n",
       "    .dataframe thead th {\n",
       "        text-align: right;\n",
       "    }\n",
       "</style>\n",
       "<table border=\"1\" class=\"dataframe\">\n",
       "  <thead>\n",
       "    <tr style=\"text-align: right;\">\n",
       "      <th></th>\n",
       "      <th>OFFENSE_TYPE_ID</th>\n",
       "      <th>OFFENSE_CATEGORY_ID</th>\n",
       "      <th>INCIDENT_ADDRESS</th>\n",
       "      <th>DISTRICT_ID</th>\n",
       "      <th>PRECINCT_ID</th>\n",
       "      <th>NEIGHBORHOOD_ID</th>\n",
       "      <th>IS_CRIME</th>\n",
       "      <th>IS_TRAFFIC</th>\n",
       "      <th>REPORT_DATE</th>\n",
       "      <th>REPORT_TIME</th>\n",
       "      <th>OCCURRENCE_DATE</th>\n",
       "      <th>OCCURRENCE_TIME</th>\n",
       "    </tr>\n",
       "  </thead>\n",
       "  <tbody>\n",
       "    <tr>\n",
       "      <th>0</th>\n",
       "      <td>criminal-mischief-other</td>\n",
       "      <td>public-disorder</td>\n",
       "      <td>2920 W 32ND AVE</td>\n",
       "      <td>1</td>\n",
       "      <td>113</td>\n",
       "      <td>highland</td>\n",
       "      <td>1</td>\n",
       "      <td>0</td>\n",
       "      <td>2017-06-27</td>\n",
       "      <td>19:01:00</td>\n",
       "      <td>2017-06-25</td>\n",
       "      <td>20:40:00</td>\n",
       "    </tr>\n",
       "    <tr>\n",
       "      <th>1</th>\n",
       "      <td>criminal-mischief-other</td>\n",
       "      <td>public-disorder</td>\n",
       "      <td>13400 E ALBROOK DR</td>\n",
       "      <td>5</td>\n",
       "      <td>521</td>\n",
       "      <td>montbello</td>\n",
       "      <td>1</td>\n",
       "      <td>0</td>\n",
       "      <td>2017-05-26</td>\n",
       "      <td>23:04:00</td>\n",
       "      <td>2017-05-26</td>\n",
       "      <td>19:00:00</td>\n",
       "    </tr>\n",
       "    <tr>\n",
       "      <th>2</th>\n",
       "      <td>criminal-mischief-other</td>\n",
       "      <td>public-disorder</td>\n",
       "      <td>1600 BLOCK 16TH ST</td>\n",
       "      <td>6</td>\n",
       "      <td>612</td>\n",
       "      <td>union-station</td>\n",
       "      <td>1</td>\n",
       "      <td>0</td>\n",
       "      <td>2017-06-27</td>\n",
       "      <td>17:50:00</td>\n",
       "      <td>2017-06-27</td>\n",
       "      <td>16:40:00</td>\n",
       "    </tr>\n",
       "    <tr>\n",
       "      <th>3</th>\n",
       "      <td>criminal-mischief-other</td>\n",
       "      <td>public-disorder</td>\n",
       "      <td>2200 BLOCK MARKET ST</td>\n",
       "      <td>6</td>\n",
       "      <td>612</td>\n",
       "      <td>five-points</td>\n",
       "      <td>1</td>\n",
       "      <td>0</td>\n",
       "      <td>2017-05-26</td>\n",
       "      <td>22:21:00</td>\n",
       "      <td>2017-05-26</td>\n",
       "      <td>19:01:00</td>\n",
       "    </tr>\n",
       "    <tr>\n",
       "      <th>4</th>\n",
       "      <td>criminal-mischief-other</td>\n",
       "      <td>public-disorder</td>\n",
       "      <td>1733 N GROVE ST</td>\n",
       "      <td>1</td>\n",
       "      <td>121</td>\n",
       "      <td>west-colfax</td>\n",
       "      <td>1</td>\n",
       "      <td>0</td>\n",
       "      <td>2017-07-07</td>\n",
       "      <td>21:48:00</td>\n",
       "      <td>2017-07-07</td>\n",
       "      <td>21:48:00</td>\n",
       "    </tr>\n",
       "  </tbody>\n",
       "</table>\n",
       "</div>"
      ],
      "text/plain": [
       "           OFFENSE_TYPE_ID OFFENSE_CATEGORY_ID      INCIDENT_ADDRESS  \\\n",
       "0  criminal-mischief-other     public-disorder       2920 W 32ND AVE   \n",
       "1  criminal-mischief-other     public-disorder    13400 E ALBROOK DR   \n",
       "2  criminal-mischief-other     public-disorder    1600 BLOCK 16TH ST   \n",
       "3  criminal-mischief-other     public-disorder  2200 BLOCK MARKET ST   \n",
       "4  criminal-mischief-other     public-disorder       1733 N GROVE ST   \n",
       "\n",
       "  DISTRICT_ID  PRECINCT_ID NEIGHBORHOOD_ID  IS_CRIME  IS_TRAFFIC REPORT_DATE  \\\n",
       "0           1          113        highland         1           0  2017-06-27   \n",
       "1           5          521       montbello         1           0  2017-05-26   \n",
       "2           6          612   union-station         1           0  2017-06-27   \n",
       "3           6          612     five-points         1           0  2017-05-26   \n",
       "4           1          121     west-colfax         1           0  2017-07-07   \n",
       "\n",
       "  REPORT_TIME OCCURRENCE_DATE OCCURRENCE_TIME  \n",
       "0    19:01:00      2017-06-25        20:40:00  \n",
       "1    23:04:00      2017-05-26        19:00:00  \n",
       "2    17:50:00      2017-06-27        16:40:00  \n",
       "3    22:21:00      2017-05-26        19:01:00  \n",
       "4    21:48:00      2017-07-07        21:48:00  "
      ]
     },
     "execution_count": 57,
     "metadata": {},
     "output_type": "execute_result"
    }
   ],
   "source": [
    "crimeDF.head()"
   ]
  },
  {
   "cell_type": "markdown",
   "metadata": {},
   "source": [
    "Count the amount of occurrences in the columns"
   ]
  },
  {
   "cell_type": "code",
   "execution_count": 38,
   "metadata": {},
   "outputs": [
    {
     "name": "stdout",
     "output_type": "stream",
     "text": [
      "theft-of-motor-vehicle       48016\n",
      "theft-items-from-vehicle     37804\n",
      "theft-other                  23157\n",
      "criminal-mischief-mtr-veh    22113\n",
      "theft-parts-from-vehicle     21258\n",
      "                             ...  \n",
      "explosives-posses                1\n",
      "bigamy                           1\n",
      "drug-barbiturate-mfr             1\n",
      "theft-of-cable-services          1\n",
      "gambling-betting-wagering        1\n",
      "Name: OFFENSE_TYPE_ID, Length: 195, dtype: int64\n"
     ]
    },
    {
     "data": {
      "text/plain": [
       "Text(0, 0.5, 'Number of Occurrences')"
      ]
     },
     "execution_count": 38,
     "metadata": {},
     "output_type": "execute_result"
    },
    {
     "data": {
      "image/png": "[encoded data removed]",
      "text/plain": [
       "<Figure size 432x288 with 1 Axes>"
      ]
     },
     "metadata": {
      "needs_background": "light"
     },
     "output_type": "display_data"
    }
   ],
   "source": [
    "# print(crimeDF[\"OFFENSE_TYPE_ID\"].value_counts())\n",
    "offenseType =(crimeDF[\"OFFENSE_TYPE_ID\"].value_counts())\n",
    "print(offenseType)\n",
    "crimeDF.shape\n",
    "ax = offenseType.plot(title=\"Count distribution of offense type ID\")\n",
    "ax.set_xlabel(\"Crime type\")\n",
    "ax.set_ylabel(\"Number of Occurrences\")\n",
    "\n",
    "\n",
    "# print(crimeDF[\"OFFENSE_CATEGORY_ID\"].value_counts())\n",
    "# print(crimeDF[\"DISTRICT_ID\"].value_counts())\n",
    "# print(crimeDF[\"PRECINCT_ID\"].value_counts())\n",
    "# print(crimeDF[\"NEIGHBORHOOD_ID\"].value_counts())\n",
    "# print(crimeDF[\"IS_CRIME\"].value_counts())\n",
    "# print(crimeDF[\"IS_TRAFFIC\"].value_counts())"
   ]
  },
  {
   "cell_type": "code",
   "execution_count": 39,
   "metadata": {},
   "outputs": [
    {
     "data": {
      "image/png": "[encoded data removed]",
      "text/plain": [
       "<Figure size 432x288 with 1 Axes>"
      ]
     },
     "metadata": {
      "needs_background": "light"
     },
     "output_type": "display_data"
    }
   ],
   "source": [
    "ax2 =offenseType.plot.kde(title=\"Density plot of Offense Type ID\")\n"
   ]
  },
  {
   "cell_type": "markdown",
   "metadata": {},
   "source": [
    "O do not like how many occurrences of types that occurred once"
   ]
  },
  {
   "cell_type": "code",
   "execution_count": 62,
   "metadata": {},
   "outputs": [
    {
     "data": {
      "image/png": "[encoded data removed]",
      "text/plain": [
       "<Figure size 432x288 with 1 Axes>"
      ]
     },
     "metadata": {
      "needs_background": "light"
     },
     "output_type": "display_data"
    }
   ],
   "source": [
    "res = crimeDF[~crimeDF['OFFENSE_TYPE_ID'].isin(offenseType[offenseType < 5000].index)]\n",
    "\n",
    "# print(res)\n",
    "ax = (res[\"OFFENSE_TYPE_ID\"].value_counts()).plot(title=\"Count distribution of offense type ID\")\n",
    "ax.set_xlabel(\"Crime type\")\n",
    "ax.set_ylabel(\"Number of Occurrences\")\n",
    "plt.xticks(rotation=90)\n",
    "plt.show()"
   ]
  },
  {
   "cell_type": "code",
   "execution_count": 50,
   "metadata": {},
   "outputs": [
    {
     "data": {
      "image/png": "[encoded data removed]",
      "text/plain": [
       "<Figure size 432x288 with 1 Axes>"
      ]
     },
     "metadata": {
      "needs_background": "light"
     },
     "output_type": "display_data"
    }
   ],
   "source": [
    "ax2 =(res[\"OFFENSE_TYPE_ID\"].value_counts()).plot.kde(title=\"Density plot of Offense Type ID\")"
   ]
  },
  {
   "cell_type": "markdown",
   "metadata": {},
   "source": [
    "group by type: within type\n",
    "offense category id"
   ]
  },
  {
   "cell_type": "code",
   "execution_count": 55,
   "metadata": {},
   "outputs": [
    {
     "name": "stdout",
     "output_type": "stream",
     "text": [
      "Offense Types in Denver and Occurrence count\n",
      "theft-from-motor-vehicle        59062\n",
      "public-disorder                 58994\n",
      "all-other-crimes                56996\n",
      "larceny                         56282\n",
      "auto-theft                      49040\n",
      "burglary                        27482\n",
      "other-crimes-against-persons    26470\n",
      "drug-alcohol                    25619\n",
      "aggravated-assault              17163\n",
      "robbery                          7184\n",
      "white-collar-crime               7061\n",
      "sexual-assault                   4956\n",
      "arson                             863\n",
      "murder                            417\n",
      "Name: OFFENSE_CATEGORY_ID, dtype: int64\n"
     ]
    }
   ],
   "source": [
    "offenseCategory =(crimeDF[\"OFFENSE_CATEGORY_ID\"].value_counts())\n",
    "print(\"Offense Types in Denver and Occurrence count\")\n",
    "print(offenseCategory)"
   ]
  },
  {
   "cell_type": "code",
   "execution_count": 53,
   "metadata": {},
   "outputs": [
    {
     "data": {
      "text/plain": [
       "<AxesSubplot:ylabel='Density'>"
      ]
     },
     "execution_count": 53,
     "metadata": {},
     "output_type": "execute_result"
    },
    {
     "data": {
      "image/png": "[encoded data removed]",
      "text/plain": [
       "<Figure size 432x288 with 1 Axes>"
      ]
     },
     "metadata": {
      "needs_background": "light"
     },
     "output_type": "display_data"
    }
   ],
   "source": [
    "offenseCategory.plot.kde()"
   ]
  },
  {
   "cell_type": "code",
   "execution_count": 65,
   "metadata": {},
   "outputs": [
    {
     "data": {
      "image/png": "[encoded data removed]",
      "text/plain": [
       "<Figure size 432x288 with 1 Axes>"
      ]
     },
     "metadata": {
      "needs_background": "light"
     },
     "output_type": "display_data"
    }
   ],
   "source": [
    "ax = offenseCategory.plot(title=\"Crime Type vs Number of Occurrences\")\n",
    "plt.xticks(rotation=90)\n",
    "ax.set_xlabel(\"Crime type\")\n",
    "ax.set_ylabel(\"Number of Occurrences\")\n",
    "\n",
    "plt.show()"
   ]
  },
  {
   "cell_type": "code",
   "execution_count": null,
   "metadata": {},
   "outputs": [],
   "source": []
  },
  {
   "cell_type": "markdown",
   "metadata": {},
   "source": [
    "do we need support confidences/support\n",
    "what are the things that we all need to have/want to have\n",
    "Share/create the slides"
   ]
  },
  {
   "cell_type": "code",
   "execution_count": 70,
   "metadata": {},
   "outputs": [],
   "source": [
    "crimeDF[\"Report Month\"] = pd.DatetimeIndex(crimeDF[\"REPORT_DATE\"]).month\n",
    "crimeDF[\"Report Year\"] = pd.DatetimeIndex(crimeDF[\"REPORT_DATE\"]).year"
   ]
  },
  {
   "cell_type": "code",
   "execution_count": 81,
   "metadata": {},
   "outputs": [
    {
     "data": {
      "image/png": "[encoded data removed]",
      "text/plain": [
       "<Figure size 432x288 with 1 Axes>"
      ]
     },
     "metadata": {
      "needs_background": "light"
     },
     "output_type": "display_data"
    }
   ],
   "source": [
    "\n",
    "ax = crimeDF.groupby(\"Report Month\").size().plot(kind = \"bar\", title= \"Total crime events by month\")\n",
    "ax.set_ylabel(\"Number of Occurrences\")\n",
    "plt.xticks(rotation=0)\n",
    "plt.show()"
   ]
  },
  {
   "cell_type": "code",
   "execution_count": 82,
   "metadata": {},
   "outputs": [
    {
     "data": {
      "image/png": "[encoded data removed]",
      "text/plain": [
       "<Figure size 432x288 with 1 Axes>"
      ]
     },
     "metadata": {
      "needs_background": "light"
     },
     "output_type": "display_data"
    }
   ],
   "source": [
    "ax = crimeDF.groupby(\"Report Year\").size().plot(kind = \"bar\", title= \"Total crime events by Year\")\n",
    "ax.set_ylabel(\"Number of Occurrences\")\n",
    "plt.xticks(rotation=0)\n",
    "plt.show()"
   ]
  }
 ],
 "metadata": {
  "kernelspec": {
   "display_name": "Python 3.9.6 64-bit",
   "language": "python",
   "name": "python3"
  },
  "language_info": {
   "codemirror_mode": {
    "name": "ipython",
    "version": 3
   },
   "file_extension": ".py",
   "mimetype": "text/x-python",
   "name": "python",
   "nbconvert_exporter": "python",
   "pygments_lexer": "ipython3",
   "version": "3.9.6"
  },
  "orig_nbformat": 4,
  "vscode": {
   "interpreter": {
    "hash": "aee8b7b246df8f9039afb4144a1f6fd8d2ca17a180786b69acc140d282b71a49"
   }
  }
 },
 "nbformat": 4,
 "nbformat_minor": 2
}
